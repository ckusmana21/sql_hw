{
  "nbformat": 4,
  "nbformat_minor": 0,
  "metadata": {
    "colab": {
      "provenance": [],
      "toc_visible": true,
      "authorship_tag": "ABX9TyP5kD4icdLr6wOL1Ojpxd1Y",
      "include_colab_link": true
    },
    "kernelspec": {
      "name": "python3",
      "display_name": "Python 3"
    },
    "language_info": {
      "name": "python"
    }
  },
  "cells": [
    {
      "cell_type": "markdown",
      "metadata": {
        "id": "view-in-github",
        "colab_type": "text"
      },
      "source": [
        "<a href=\"https://colab.research.google.com/github/ckusmana21/sql_hw/blob/main/Untitled0.ipynb\" target=\"_parent\"><img src=\"https://colab.research.google.com/assets/colab-badge.svg\" alt=\"Open In Colab\"/></a>"
      ]
    },
    {
      "cell_type": "markdown",
      "source": [
        "**ACC Basketball Homework Assignment**:\n",
        "Both codes and the 3 Paragraph Reflection are included in this file."
      ],
      "metadata": {
        "id": "NH-j3ojjnicj"
      }
    },
    {
      "cell_type": "markdown",
      "source": [
        "QUESTION 1"
      ],
      "metadata": {
        "id": "ynZfq_C7hAci"
      }
    },
    {
      "cell_type": "code",
      "execution_count": 13,
      "metadata": {
        "colab": {
          "base_uri": "https://localhost:8080/",
          "height": 342
        },
        "id": "dizrr2ZHgJXU",
        "outputId": "a7b7dfbd-a81f-4a07-c953-fca3cfa23d4e"
      },
      "outputs": [
        {
          "output_type": "execute_result",
          "data": {
            "text/plain": [
              "   Rk         Player Class Pos          School   G   MP  TRB  AST  STL  ...  \\\n",
              "0   1   Amaree Abram    SO   G    Georgia Tech  10  108   17   11    1  ...   \n",
              "1   2   Sola Adebisi    FR   F   Florida State   7    9    1    1    0  ...   \n",
              "2   3  Prince Aligbe    SO   F  Boston College  35  651  119   21   15  ...   \n",
              "3   4     Abe Atiyeh    SR   G  Boston College   4    6    0    0    0  ...   \n",
              "4   5    Zack Austin    JR   F      Pittsburgh  33  746  137   29   32  ...   \n",
              "\n",
              "   TOV  PF  PTS    FG%    2P%    3P%    FT%   PER   WS  BPM  \n",
              "0    9  10   34  0.262  0.318  0.200  0.615   4.1 -0.1 -6.4  \n",
              "1    1   1    2  0.500  0.500    NaN    NaN   3.5  0.0 -6.7  \n",
              "2   30  51  164  0.435  0.522  0.147  0.620   9.4  0.9 -1.3  \n",
              "3    1   0    3  0.333  0.000  1.000    NaN   1.1  0.0 -8.2  \n",
              "4   13  35  216  0.417  0.563  0.295  0.737  18.0  2.9  7.9  \n",
              "\n",
              "[5 rows x 21 columns]"
            ],
            "text/html": [
              "\n",
              "  <div id=\"df-8cfa7920-501b-47c8-bbc4-e5fd7a871ed8\" class=\"colab-df-container\">\n",
              "    <div>\n",
              "<style scoped>\n",
              "    .dataframe tbody tr th:only-of-type {\n",
              "        vertical-align: middle;\n",
              "    }\n",
              "\n",
              "    .dataframe tbody tr th {\n",
              "        vertical-align: top;\n",
              "    }\n",
              "\n",
              "    .dataframe thead th {\n",
              "        text-align: right;\n",
              "    }\n",
              "</style>\n",
              "<table border=\"1\" class=\"dataframe\">\n",
              "  <thead>\n",
              "    <tr style=\"text-align: right;\">\n",
              "      <th></th>\n",
              "      <th>Rk</th>\n",
              "      <th>Player</th>\n",
              "      <th>Class</th>\n",
              "      <th>Pos</th>\n",
              "      <th>School</th>\n",
              "      <th>G</th>\n",
              "      <th>MP</th>\n",
              "      <th>TRB</th>\n",
              "      <th>AST</th>\n",
              "      <th>STL</th>\n",
              "      <th>...</th>\n",
              "      <th>TOV</th>\n",
              "      <th>PF</th>\n",
              "      <th>PTS</th>\n",
              "      <th>FG%</th>\n",
              "      <th>2P%</th>\n",
              "      <th>3P%</th>\n",
              "      <th>FT%</th>\n",
              "      <th>PER</th>\n",
              "      <th>WS</th>\n",
              "      <th>BPM</th>\n",
              "    </tr>\n",
              "  </thead>\n",
              "  <tbody>\n",
              "    <tr>\n",
              "      <th>0</th>\n",
              "      <td>1</td>\n",
              "      <td>Amaree Abram</td>\n",
              "      <td>SO</td>\n",
              "      <td>G</td>\n",
              "      <td>Georgia Tech</td>\n",
              "      <td>10</td>\n",
              "      <td>108</td>\n",
              "      <td>17</td>\n",
              "      <td>11</td>\n",
              "      <td>1</td>\n",
              "      <td>...</td>\n",
              "      <td>9</td>\n",
              "      <td>10</td>\n",
              "      <td>34</td>\n",
              "      <td>0.262</td>\n",
              "      <td>0.318</td>\n",
              "      <td>0.200</td>\n",
              "      <td>0.615</td>\n",
              "      <td>4.1</td>\n",
              "      <td>-0.1</td>\n",
              "      <td>-6.4</td>\n",
              "    </tr>\n",
              "    <tr>\n",
              "      <th>1</th>\n",
              "      <td>2</td>\n",
              "      <td>Sola Adebisi</td>\n",
              "      <td>FR</td>\n",
              "      <td>F</td>\n",
              "      <td>Florida State</td>\n",
              "      <td>7</td>\n",
              "      <td>9</td>\n",
              "      <td>1</td>\n",
              "      <td>1</td>\n",
              "      <td>0</td>\n",
              "      <td>...</td>\n",
              "      <td>1</td>\n",
              "      <td>1</td>\n",
              "      <td>2</td>\n",
              "      <td>0.500</td>\n",
              "      <td>0.500</td>\n",
              "      <td>NaN</td>\n",
              "      <td>NaN</td>\n",
              "      <td>3.5</td>\n",
              "      <td>0.0</td>\n",
              "      <td>-6.7</td>\n",
              "    </tr>\n",
              "    <tr>\n",
              "      <th>2</th>\n",
              "      <td>3</td>\n",
              "      <td>Prince Aligbe</td>\n",
              "      <td>SO</td>\n",
              "      <td>F</td>\n",
              "      <td>Boston College</td>\n",
              "      <td>35</td>\n",
              "      <td>651</td>\n",
              "      <td>119</td>\n",
              "      <td>21</td>\n",
              "      <td>15</td>\n",
              "      <td>...</td>\n",
              "      <td>30</td>\n",
              "      <td>51</td>\n",
              "      <td>164</td>\n",
              "      <td>0.435</td>\n",
              "      <td>0.522</td>\n",
              "      <td>0.147</td>\n",
              "      <td>0.620</td>\n",
              "      <td>9.4</td>\n",
              "      <td>0.9</td>\n",
              "      <td>-1.3</td>\n",
              "    </tr>\n",
              "    <tr>\n",
              "      <th>3</th>\n",
              "      <td>4</td>\n",
              "      <td>Abe Atiyeh</td>\n",
              "      <td>SR</td>\n",
              "      <td>G</td>\n",
              "      <td>Boston College</td>\n",
              "      <td>4</td>\n",
              "      <td>6</td>\n",
              "      <td>0</td>\n",
              "      <td>0</td>\n",
              "      <td>0</td>\n",
              "      <td>...</td>\n",
              "      <td>1</td>\n",
              "      <td>0</td>\n",
              "      <td>3</td>\n",
              "      <td>0.333</td>\n",
              "      <td>0.000</td>\n",
              "      <td>1.000</td>\n",
              "      <td>NaN</td>\n",
              "      <td>1.1</td>\n",
              "      <td>0.0</td>\n",
              "      <td>-8.2</td>\n",
              "    </tr>\n",
              "    <tr>\n",
              "      <th>4</th>\n",
              "      <td>5</td>\n",
              "      <td>Zack Austin</td>\n",
              "      <td>JR</td>\n",
              "      <td>F</td>\n",
              "      <td>Pittsburgh</td>\n",
              "      <td>33</td>\n",
              "      <td>746</td>\n",
              "      <td>137</td>\n",
              "      <td>29</td>\n",
              "      <td>32</td>\n",
              "      <td>...</td>\n",
              "      <td>13</td>\n",
              "      <td>35</td>\n",
              "      <td>216</td>\n",
              "      <td>0.417</td>\n",
              "      <td>0.563</td>\n",
              "      <td>0.295</td>\n",
              "      <td>0.737</td>\n",
              "      <td>18.0</td>\n",
              "      <td>2.9</td>\n",
              "      <td>7.9</td>\n",
              "    </tr>\n",
              "  </tbody>\n",
              "</table>\n",
              "<p>5 rows × 21 columns</p>\n",
              "</div>\n",
              "    <div class=\"colab-df-buttons\">\n",
              "\n",
              "  <div class=\"colab-df-container\">\n",
              "    <button class=\"colab-df-convert\" onclick=\"convertToInteractive('df-8cfa7920-501b-47c8-bbc4-e5fd7a871ed8')\"\n",
              "            title=\"Convert this dataframe to an interactive table.\"\n",
              "            style=\"display:none;\">\n",
              "\n",
              "  <svg xmlns=\"http://www.w3.org/2000/svg\" height=\"24px\" viewBox=\"0 -960 960 960\">\n",
              "    <path d=\"M120-120v-720h720v720H120Zm60-500h600v-160H180v160Zm220 220h160v-160H400v160Zm0 220h160v-160H400v160ZM180-400h160v-160H180v160Zm440 0h160v-160H620v160ZM180-180h160v-160H180v160Zm440 0h160v-160H620v160Z\"/>\n",
              "  </svg>\n",
              "    </button>\n",
              "\n",
              "  <style>\n",
              "    .colab-df-container {\n",
              "      display:flex;\n",
              "      gap: 12px;\n",
              "    }\n",
              "\n",
              "    .colab-df-convert {\n",
              "      background-color: #E8F0FE;\n",
              "      border: none;\n",
              "      border-radius: 50%;\n",
              "      cursor: pointer;\n",
              "      display: none;\n",
              "      fill: #1967D2;\n",
              "      height: 32px;\n",
              "      padding: 0 0 0 0;\n",
              "      width: 32px;\n",
              "    }\n",
              "\n",
              "    .colab-df-convert:hover {\n",
              "      background-color: #E2EBFA;\n",
              "      box-shadow: 0px 1px 2px rgba(60, 64, 67, 0.3), 0px 1px 3px 1px rgba(60, 64, 67, 0.15);\n",
              "      fill: #174EA6;\n",
              "    }\n",
              "\n",
              "    .colab-df-buttons div {\n",
              "      margin-bottom: 4px;\n",
              "    }\n",
              "\n",
              "    [theme=dark] .colab-df-convert {\n",
              "      background-color: #3B4455;\n",
              "      fill: #D2E3FC;\n",
              "    }\n",
              "\n",
              "    [theme=dark] .colab-df-convert:hover {\n",
              "      background-color: #434B5C;\n",
              "      box-shadow: 0px 1px 3px 1px rgba(0, 0, 0, 0.15);\n",
              "      filter: drop-shadow(0px 1px 2px rgba(0, 0, 0, 0.3));\n",
              "      fill: #FFFFFF;\n",
              "    }\n",
              "  </style>\n",
              "\n",
              "    <script>\n",
              "      const buttonEl =\n",
              "        document.querySelector('#df-8cfa7920-501b-47c8-bbc4-e5fd7a871ed8 button.colab-df-convert');\n",
              "      buttonEl.style.display =\n",
              "        google.colab.kernel.accessAllowed ? 'block' : 'none';\n",
              "\n",
              "      async function convertToInteractive(key) {\n",
              "        const element = document.querySelector('#df-8cfa7920-501b-47c8-bbc4-e5fd7a871ed8');\n",
              "        const dataTable =\n",
              "          await google.colab.kernel.invokeFunction('convertToInteractive',\n",
              "                                                    [key], {});\n",
              "        if (!dataTable) return;\n",
              "\n",
              "        const docLinkHtml = 'Like what you see? Visit the ' +\n",
              "          '<a target=\"_blank\" href=https://colab.research.google.com/notebooks/data_table.ipynb>data table notebook</a>'\n",
              "          + ' to learn more about interactive tables.';\n",
              "        element.innerHTML = '';\n",
              "        dataTable['output_type'] = 'display_data';\n",
              "        await google.colab.output.renderOutput(dataTable, element);\n",
              "        const docLink = document.createElement('div');\n",
              "        docLink.innerHTML = docLinkHtml;\n",
              "        element.appendChild(docLink);\n",
              "      }\n",
              "    </script>\n",
              "  </div>\n",
              "\n",
              "\n",
              "<div id=\"df-d67f52ca-5690-4a04-924f-fe1b4db7bc42\">\n",
              "  <button class=\"colab-df-quickchart\" onclick=\"quickchart('df-d67f52ca-5690-4a04-924f-fe1b4db7bc42')\"\n",
              "            title=\"Suggest charts\"\n",
              "            style=\"display:none;\">\n",
              "\n",
              "<svg xmlns=\"http://www.w3.org/2000/svg\" height=\"24px\"viewBox=\"0 0 24 24\"\n",
              "     width=\"24px\">\n",
              "    <g>\n",
              "        <path d=\"M19 3H5c-1.1 0-2 .9-2 2v14c0 1.1.9 2 2 2h14c1.1 0 2-.9 2-2V5c0-1.1-.9-2-2-2zM9 17H7v-7h2v7zm4 0h-2V7h2v10zm4 0h-2v-4h2v4z\"/>\n",
              "    </g>\n",
              "</svg>\n",
              "  </button>\n",
              "\n",
              "<style>\n",
              "  .colab-df-quickchart {\n",
              "      --bg-color: #E8F0FE;\n",
              "      --fill-color: #1967D2;\n",
              "      --hover-bg-color: #E2EBFA;\n",
              "      --hover-fill-color: #174EA6;\n",
              "      --disabled-fill-color: #AAA;\n",
              "      --disabled-bg-color: #DDD;\n",
              "  }\n",
              "\n",
              "  [theme=dark] .colab-df-quickchart {\n",
              "      --bg-color: #3B4455;\n",
              "      --fill-color: #D2E3FC;\n",
              "      --hover-bg-color: #434B5C;\n",
              "      --hover-fill-color: #FFFFFF;\n",
              "      --disabled-bg-color: #3B4455;\n",
              "      --disabled-fill-color: #666;\n",
              "  }\n",
              "\n",
              "  .colab-df-quickchart {\n",
              "    background-color: var(--bg-color);\n",
              "    border: none;\n",
              "    border-radius: 50%;\n",
              "    cursor: pointer;\n",
              "    display: none;\n",
              "    fill: var(--fill-color);\n",
              "    height: 32px;\n",
              "    padding: 0;\n",
              "    width: 32px;\n",
              "  }\n",
              "\n",
              "  .colab-df-quickchart:hover {\n",
              "    background-color: var(--hover-bg-color);\n",
              "    box-shadow: 0 1px 2px rgba(60, 64, 67, 0.3), 0 1px 3px 1px rgba(60, 64, 67, 0.15);\n",
              "    fill: var(--button-hover-fill-color);\n",
              "  }\n",
              "\n",
              "  .colab-df-quickchart-complete:disabled,\n",
              "  .colab-df-quickchart-complete:disabled:hover {\n",
              "    background-color: var(--disabled-bg-color);\n",
              "    fill: var(--disabled-fill-color);\n",
              "    box-shadow: none;\n",
              "  }\n",
              "\n",
              "  .colab-df-spinner {\n",
              "    border: 2px solid var(--fill-color);\n",
              "    border-color: transparent;\n",
              "    border-bottom-color: var(--fill-color);\n",
              "    animation:\n",
              "      spin 1s steps(1) infinite;\n",
              "  }\n",
              "\n",
              "  @keyframes spin {\n",
              "    0% {\n",
              "      border-color: transparent;\n",
              "      border-bottom-color: var(--fill-color);\n",
              "      border-left-color: var(--fill-color);\n",
              "    }\n",
              "    20% {\n",
              "      border-color: transparent;\n",
              "      border-left-color: var(--fill-color);\n",
              "      border-top-color: var(--fill-color);\n",
              "    }\n",
              "    30% {\n",
              "      border-color: transparent;\n",
              "      border-left-color: var(--fill-color);\n",
              "      border-top-color: var(--fill-color);\n",
              "      border-right-color: var(--fill-color);\n",
              "    }\n",
              "    40% {\n",
              "      border-color: transparent;\n",
              "      border-right-color: var(--fill-color);\n",
              "      border-top-color: var(--fill-color);\n",
              "    }\n",
              "    60% {\n",
              "      border-color: transparent;\n",
              "      border-right-color: var(--fill-color);\n",
              "    }\n",
              "    80% {\n",
              "      border-color: transparent;\n",
              "      border-right-color: var(--fill-color);\n",
              "      border-bottom-color: var(--fill-color);\n",
              "    }\n",
              "    90% {\n",
              "      border-color: transparent;\n",
              "      border-bottom-color: var(--fill-color);\n",
              "    }\n",
              "  }\n",
              "</style>\n",
              "\n",
              "  <script>\n",
              "    async function quickchart(key) {\n",
              "      const quickchartButtonEl =\n",
              "        document.querySelector('#' + key + ' button');\n",
              "      quickchartButtonEl.disabled = true;  // To prevent multiple clicks.\n",
              "      quickchartButtonEl.classList.add('colab-df-spinner');\n",
              "      try {\n",
              "        const charts = await google.colab.kernel.invokeFunction(\n",
              "            'suggestCharts', [key], {});\n",
              "      } catch (error) {\n",
              "        console.error('Error during call to suggestCharts:', error);\n",
              "      }\n",
              "      quickchartButtonEl.classList.remove('colab-df-spinner');\n",
              "      quickchartButtonEl.classList.add('colab-df-quickchart-complete');\n",
              "    }\n",
              "    (() => {\n",
              "      let quickchartButtonEl =\n",
              "        document.querySelector('#df-d67f52ca-5690-4a04-924f-fe1b4db7bc42 button');\n",
              "      quickchartButtonEl.style.display =\n",
              "        google.colab.kernel.accessAllowed ? 'block' : 'none';\n",
              "    })();\n",
              "  </script>\n",
              "</div>\n",
              "\n",
              "  <div id=\"id_5dd58287-9c49-4566-985b-76b275aa17ce\">\n",
              "    <style>\n",
              "      .colab-df-generate {\n",
              "        background-color: #E8F0FE;\n",
              "        border: none;\n",
              "        border-radius: 50%;\n",
              "        cursor: pointer;\n",
              "        display: none;\n",
              "        fill: #1967D2;\n",
              "        height: 32px;\n",
              "        padding: 0 0 0 0;\n",
              "        width: 32px;\n",
              "      }\n",
              "\n",
              "      .colab-df-generate:hover {\n",
              "        background-color: #E2EBFA;\n",
              "        box-shadow: 0px 1px 2px rgba(60, 64, 67, 0.3), 0px 1px 3px 1px rgba(60, 64, 67, 0.15);\n",
              "        fill: #174EA6;\n",
              "      }\n",
              "\n",
              "      [theme=dark] .colab-df-generate {\n",
              "        background-color: #3B4455;\n",
              "        fill: #D2E3FC;\n",
              "      }\n",
              "\n",
              "      [theme=dark] .colab-df-generate:hover {\n",
              "        background-color: #434B5C;\n",
              "        box-shadow: 0px 1px 3px 1px rgba(0, 0, 0, 0.15);\n",
              "        filter: drop-shadow(0px 1px 2px rgba(0, 0, 0, 0.3));\n",
              "        fill: #FFFFFF;\n",
              "      }\n",
              "    </style>\n",
              "    <button class=\"colab-df-generate\" onclick=\"generateWithVariable('data_head')\"\n",
              "            title=\"Generate code using this dataframe.\"\n",
              "            style=\"display:none;\">\n",
              "\n",
              "  <svg xmlns=\"http://www.w3.org/2000/svg\" height=\"24px\"viewBox=\"0 0 24 24\"\n",
              "       width=\"24px\">\n",
              "    <path d=\"M7,19H8.4L18.45,9,17,7.55,7,17.6ZM5,21V16.75L18.45,3.32a2,2,0,0,1,2.83,0l1.4,1.43a1.91,1.91,0,0,1,.58,1.4,1.91,1.91,0,0,1-.58,1.4L9.25,21ZM18.45,9,17,7.55Zm-12,3A5.31,5.31,0,0,0,4.9,8.1,5.31,5.31,0,0,0,1,6.5,5.31,5.31,0,0,0,4.9,4.9,5.31,5.31,0,0,0,6.5,1,5.31,5.31,0,0,0,8.1,4.9,5.31,5.31,0,0,0,12,6.5,5.46,5.46,0,0,0,6.5,12Z\"/>\n",
              "  </svg>\n",
              "    </button>\n",
              "    <script>\n",
              "      (() => {\n",
              "      const buttonEl =\n",
              "        document.querySelector('#id_5dd58287-9c49-4566-985b-76b275aa17ce button.colab-df-generate');\n",
              "      buttonEl.style.display =\n",
              "        google.colab.kernel.accessAllowed ? 'block' : 'none';\n",
              "\n",
              "      buttonEl.onclick = () => {\n",
              "        google.colab.notebook.generateWithVariable('data_head');\n",
              "      }\n",
              "      })();\n",
              "    </script>\n",
              "  </div>\n",
              "\n",
              "    </div>\n",
              "  </div>\n"
            ],
            "application/vnd.google.colaboratory.intrinsic+json": {
              "type": "dataframe",
              "variable_name": "data_head"
            }
          },
          "metadata": {},
          "execution_count": 13
        }
      ],
      "source": [
        "import pandas as pd\n",
        "\n",
        "data = pd.read_csv('/content/sample_data/acc_players-2324F.csv', header=1)\n",
        "data_head = data.head()\n",
        "data_head"
      ]
    },
    {
      "cell_type": "markdown",
      "source": [
        "QUESTION 2"
      ],
      "metadata": {
        "id": "zIuZciEfhKk-"
      }
    },
    {
      "cell_type": "code",
      "source": [
        "# I check the corresponding column names using the code below:\n",
        "## print(data.columns)\n",
        "\n",
        "# Calculate the total points scored by all players combined.\n",
        "part_A = data['PTS'].sum()\n",
        "\n",
        "# Find the player who has played the most minutes (MP).\n",
        "part_B = data.loc[data['MP'].idxmax(), 'Player']\n",
        "\n",
        "# Identify the top 5 players in terms of total rebounds (TRB)\n",
        "part_C = data[['Player', 'TRB']].nlargest(5, 'TRB')['Player'].tolist()\n",
        "\n",
        "print(part_A)\n",
        "print(part_B)\n",
        "print(part_C)"
      ],
      "metadata": {
        "colab": {
          "base_uri": "https://localhost:8080/"
        },
        "id": "8VWa-loehLfQ",
        "outputId": "5d6444f4-f7dd-4707-a9db-5fe5c845b889"
      },
      "execution_count": 17,
      "outputs": [
        {
          "output_type": "stream",
          "name": "stdout",
          "text": [
            "38411\n",
            "Casey Morsell\n",
            "['Armando Bacot', 'Ian Schieffelin', 'Harrison Ingram', 'Mohamed Diarra', 'Norchad Omier']\n"
          ]
        }
      ]
    },
    {
      "cell_type": "markdown",
      "source": [
        "QUESTION 3"
      ],
      "metadata": {
        "id": "B0tMrgW9kKVG"
      }
    },
    {
      "cell_type": "code",
      "source": [
        "# Create a new DataFrame containing only players who played more than 500 minutes.\n",
        "new_data = data[data['MP'] > 500]\n",
        "\n",
        "# From this filtered DataFrame, determine the player with the highest total assists (AST).\n",
        "part_3B = new_data.loc[new_data['AST'].idxmax()]\n",
        "\n",
        "# Who are the top 3 Assist Leads in the League?\n",
        "part_3C = new_data.nlargest(3, 'AST')\n",
        "\n",
        "# Who are the top 3 Shot Blockers?\n",
        "part_3D = new_data.nlargest(3, 'BLK')\n",
        "\n",
        "print(part_3B)\n",
        "print(part_3C)\n",
        "print(part_3D)\n"
      ],
      "metadata": {
        "colab": {
          "base_uri": "https://localhost:8080/"
        },
        "id": "BWZbcr78kLtU",
        "outputId": "c1331693-ca0b-494a-c5fa-de535de2b010"
      },
      "execution_count": 22,
      "outputs": [
        {
          "output_type": "stream",
          "name": "stdout",
          "text": [
            "Rk                    8\n",
            "Player    Reece Beekman\n",
            "Class                SR\n",
            "Pos                   G\n",
            "School         Virginia\n",
            "G                    34\n",
            "MP                 1114\n",
            "TRB                 124\n",
            "AST                 212\n",
            "STL                  68\n",
            "BLK                  17\n",
            "TOV                  70\n",
            "PF                   43\n",
            "PTS                 486\n",
            "FG%               0.443\n",
            "2P%               0.487\n",
            "3P%                0.31\n",
            "FT%               0.754\n",
            "PER                23.4\n",
            "WS                  4.9\n",
            "BPM                10.5\n",
            "Name: 7, dtype: object\n",
            "      Rk          Player Class Pos          School   G    MP  TRB  AST  STL  \\\n",
            "7      8   Reece Beekman    SR   G        Virginia  34  1114  124  212   68   \n",
            "215  216  Jaeden Zackery    JR   G  Boston College  36  1216  119  152   63   \n",
            "21    22   Elliot Cadeau    FR   G  North Carolina  37   882   81  150   29   \n",
            "\n",
            "     ...  TOV  PF  PTS    FG%    2P%    3P%    FT%   PER   WS   BPM  \n",
            "7    ...   70  43  486  0.443  0.487  0.310  0.754  23.4  4.9  10.5  \n",
            "215  ...   71  78  408  0.484  0.511  0.405  0.824  16.4  3.7   3.5  \n",
            "21   ...   67  84  271  0.417  0.481  0.189  0.648  11.7  2.1   1.8  \n",
            "\n",
            "[3 rows x 21 columns]\n",
            "      Rk         Player Class Pos          School   G    MP  TRB  AST  STL  \\\n",
            "51    52      Ryan Dunn    SO   G        Virginia  34   935  235   26   44   \n",
            "157  158   Quinten Post    SR   F  Boston College  35  1115  284  100   30   \n",
            "5      6  Armando Bacot    SR   F  North Carolina  37  1123  380   56   22   \n",
            "\n",
            "     ...  TOV   PF  PTS    FG%    2P%    3P%    FT%   PER   WS  BPM  \n",
            "51   ...   28   70  276  0.548  0.618  0.200  0.532  22.0  4.2  7.2  \n",
            "157  ...   86  100  595  0.514  0.544  0.431  0.821  25.6  5.1  9.6  \n",
            "5    ...   60  100  538  0.540  0.544  0.400  0.781  24.6  6.1  8.9  \n",
            "\n",
            "[3 rows x 21 columns]\n"
          ]
        }
      ]
    },
    {
      "cell_type": "markdown",
      "source": [
        "QUESTION 4"
      ],
      "metadata": {
        "id": "umUIsEKglqXC"
      }
    },
    {
      "cell_type": "code",
      "source": [
        "# Group the players by School and calculate the total points scored by each school\n",
        "part_4A = data.groupby('School')['PTS'].sum().reset_index()\n",
        "\n",
        "# 2. Group the players by School and calculate the total assists (AST) for each school\n",
        "part_4B = data.groupby('School')['AST'].sum().reset_index()\n",
        "\n",
        "# 3. Sort the schools by total points scored and display the top 3 schools\n",
        "part_4C = part_4A.nlargest(3, 'PTS')\n",
        "\n",
        "print(part_4A)\n",
        "print(part_4B)\n",
        "print(part_4C)\n"
      ],
      "metadata": {
        "colab": {
          "base_uri": "https://localhost:8080/"
        },
        "id": "KtdmJXvqlrsT",
        "outputId": "869d8f8b-3bef-402d-9af8-04dd9f481df8"
      },
      "execution_count": 26,
      "outputs": [
        {
          "output_type": "stream",
          "name": "stdout",
          "text": [
            "            School   PTS\n",
            "0   Boston College  2667\n",
            "1          Clemson  2785\n",
            "2             Duke  2830\n",
            "3    Florida State  2526\n",
            "4     Georgia Tech  2272\n",
            "5       Louisville  2304\n",
            "6       Miami (FL)  2424\n",
            "7         NC State  3101\n",
            "8   North Carolina  3032\n",
            "9       Notre Dame  2113\n",
            "10      Pittsburgh  2495\n",
            "11        Syracuse  2442\n",
            "12        Virginia  2140\n",
            "13   Virginia Tech  2547\n",
            "14     Wake Forest  2733\n",
            "            School  AST\n",
            "0   Boston College  509\n",
            "1          Clemson  533\n",
            "2             Duke  551\n",
            "3    Florida State  406\n",
            "4     Georgia Tech  425\n",
            "5       Louisville  356\n",
            "6       Miami (FL)  454\n",
            "7         NC State  536\n",
            "8   North Carolina  536\n",
            "9       Notre Dame  335\n",
            "10      Pittsburgh  452\n",
            "11        Syracuse  442\n",
            "12        Virginia  509\n",
            "13   Virginia Tech  514\n",
            "14     Wake Forest  429\n",
            "           School   PTS\n",
            "7        NC State  3101\n",
            "8  North Carolina  3032\n",
            "2            Duke  2830\n"
          ]
        }
      ]
    },
    {
      "cell_type": "markdown",
      "source": [
        "QUESTION 5A (BONUS)"
      ],
      "metadata": {
        "id": "p159tfJymPjY"
      }
    },
    {
      "cell_type": "code",
      "source": [
        "import pandas as pd\n",
        "import matplotlib.pyplot as plt\n",
        "import seaborn as sns\n",
        "\n",
        "part_5A = data.nlargest(5, 'PTS')\n",
        "\n",
        "plt.figure(figsize=(10, 6))\n",
        "sns.barplot(x='PTS', y='Player', data=part_5A)\n",
        "plt.title('Top 5 players by total points scored (PTS)')\n",
        "plt.xlabel('Total Points (PTS)')\n",
        "plt.ylabel('Player')\n",
        "plt.show()\n"
      ],
      "metadata": {
        "colab": {
          "base_uri": "https://localhost:8080/",
          "height": 529
        },
        "id": "SEmPgpOhmR6M",
        "outputId": "cce4bb52-d060-42e1-a9fe-d6108539187c"
      },
      "execution_count": 29,
      "outputs": [
        {
          "output_type": "display_data",
          "data": {
            "text/plain": [
              "<Figure size 1000x600 with 1 Axes>"
            ],
            "image/png": "[encoded data removed]"
          },
          "metadata": {}
        }
      ]
    },
    {
      "cell_type": "markdown",
      "source": [
        "QUESTION 5B (BONUS)"
      ],
      "metadata": {
        "id": "6zcGpa0am78a"
      }
    },
    {
      "cell_type": "code",
      "source": [
        "import pandas as pd\n",
        "import matplotlib.pyplot as plt\n",
        "import seaborn as sns\n",
        "\n",
        "# Correlation: Investigate whether there is any correlation between a player's field goal\n",
        "# percentage (FG%) and their win shares (WS). Provide a scatter plot and calculate the\n",
        "#correlation coefficient\n",
        "\n",
        "plt.figure(figsize=(10, 6))\n",
        "sns.scatterplot(x='FG%', y='WS', data=data, alpha=0.7)\n",
        "plt.title('Correlation between FG (%) and WS')\n",
        "plt.xlabel('Field Goal in % (FG%)')\n",
        "plt.ylabel('Win Shares (WS)')\n",
        "plt.show()\n",
        "\n",
        "r_sq_value = data['FG%'].corr(data['WS'])\n",
        "print(r_sq_value)\n",
        "\n",
        "# correlation coefficient is 0.421"
      ],
      "metadata": {
        "colab": {
          "base_uri": "https://localhost:8080/",
          "height": 581
        },
        "id": "HvO1gNKxm9fc",
        "outputId": "afe18215-e8d9-47bc-8b5a-902e9ce07d69"
      },
      "execution_count": 31,
      "outputs": [
        {
          "output_type": "display_data",
          "data": {
            "text/plain": [
              "<Figure size 1000x600 with 1 Axes>"
            ],
            "image/png": "[encoded data removed]"
          },
          "metadata": {}
        },
        {
          "output_type": "stream",
          "name": "stdout",
          "text": [
            "0.4210663894199787\n"
          ]
        }
      ]
    },
    {
      "cell_type": "markdown",
      "source": [
        "**REFLECTION 1**: I typically use RStudio to clean and filter out data, so I appreciate the opprotunity to learn how to use Python to do the same. The specific skills I have developed while working on this homework are using filtering to subset relevant data, grouping certain population/observations and running EDA on said groups, as well as using Python to create visualization. While the practice I have had is specific to this dataset, I think the skills are versatile enough that it would assist me with other Python projects. For instance, I could \"recycle\" or modify the scripts I am using to read in data (especially with the header), or the one for calculating correlation and making scatterplots, when working with a different dataset."
      ],
      "metadata": {
        "id": "fsM21Z_3n4ep"
      }
    },
    {
      "cell_type": "markdown",
      "source": [
        "**REFLECTION 2**: When I first looked at the data, I assumed I wouldn't have any problem running the analysis because it seemed so simple. However, the major problem I ran into was caused by my not paying enough attention to part 1 of the homework, where we had to display the first few rows. I did not realize that the correct titles of the columns have been moved to Index 0 because the rows were empty on the original CSV. I repeatedly failed to get the correct outputs for the remaning Parts until I added \"header:1\" to the line for reading in the CSV. In the future, I should pay more attention to the structure of the data and do a more thorough review of the table before jumping into the analysis."
      ],
      "metadata": {
        "id": "7qyCixaEo1kG"
      }
    },
    {
      "cell_type": "markdown",
      "source": [
        "**REFLECTION 3:** As someone who does not follow sports, I thought this assignment was a good introduction to how data is captured in the world of sport analytics, as well as the important variables we should look out for. It is interesting to see what metrics are deemed relevant when it comes to ranking players (for instance, there are some repetitions with MP, AST, and TRB, which means those are likely important factors we should watch out for when analyzing players). These metrics can help teams evaluate the performance of players not only in basketball, but also other sports -- the only things that differ are the metrics and player names, but the analysis process will largely remain the same. The visualization skill is especially relevant in the healthcare and social science industries because when the audience has little to no statistical background (for example, an investor, patient, or policymaker), it is crucial to find ways to display our data that is both appealing and understandable."
      ],
      "metadata": {
        "id": "Zu961hFqplT8"
      }
    }
  ]
}